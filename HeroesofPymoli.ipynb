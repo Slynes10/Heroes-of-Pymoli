{
 "metadata": {
  "language_info": {
   "codemirror_mode": {
    "name": "ipython",
    "version": 3
   },
   "file_extension": ".py",
   "mimetype": "text/x-python",
   "name": "python",
   "nbconvert_exporter": "python",
   "pygments_lexer": "ipython3",
   "version": "3.7.9"
  },
  "orig_nbformat": 2,
  "kernelspec": {
   "name": "python379jvsc74a57bd0a1b14aedd6bac7a26f788a1d737c55265dc98ccf00b6445689ab0f33a8cf1746",
   "display_name": "Python 3.7.9 64-bit ('PythonData': conda)"
  }
 },
 "nbformat": 4,
 "nbformat_minor": 2,
 "cells": [
  {
   "cell_type": "code",
   "execution_count": null,
   "metadata": {},
   "outputs": [],
   "source": [
    "import pandas as pd\n",
    "import numpy as np"
   ]
  },
  {
   "cell_type": "code",
   "execution_count": null,
   "metadata": {},
   "outputs": [],
   "source": [
    "csv_path = \"HeroesofPymoli.csv\""
   ]
  },
  {
   "cell_type": "code",
   "execution_count": null,
   "metadata": {},
   "outputs": [],
   "source": [
    "HeroesofPymoli_df = pd.read_csv(csv_path)\n",
    "player_df = HeroesofPymoli_df.loc[:,[\"SN\", \"Gender\", \"Age\"]]\n",
    "player_df = player_df.drop_duplicates()\n",
    "player_df\n",
    "\n"
   ]
  },
  {
   "cell_type": "code",
   "execution_count": null,
   "metadata": {},
   "outputs": [],
   "source": [
    "# Total numbers of players\n",
    "player_df.count()[\"SN\"]"
   ]
  },
  {
   "cell_type": "code",
   "execution_count": null,
   "metadata": {},
   "outputs": [],
   "source": [
    "# Total number of unique Items\n",
    "items_df = HeroesofPymoli_df.loc[:,[\"Item Name\"]]\n",
    "items_df = items_df.drop_duplicates()\n",
    "items_df"
   ]
  },
  {
   "cell_type": "code",
   "execution_count": null,
   "metadata": {},
   "outputs": [],
   "source": [
    "# Number of Unique Items\n",
    "items_df.count()[\"Item Name\"]"
   ]
  },
  {
   "cell_type": "code",
   "execution_count": null,
   "metadata": {},
   "outputs": [],
   "source": [
    "# Average Purhcase Price\n",
    "average = HeroesofPymoli_df[\"Price\"].mean()\n",
    "average"
   ]
  },
  {
   "cell_type": "code",
   "execution_count": null,
   "metadata": {},
   "outputs": [],
   "source": [
    "# Number of Puchases\n",
    "row_count = HeroesofPymoli_df.shape\n",
    "print(\"Number of Rows\", row_count)"
   ]
  },
  {
   "cell_type": "code",
   "execution_count": null,
   "metadata": {},
   "outputs": [],
   "source": [
    "# Total Revenue\n",
    "sum = HeroesofPymoli_df[\"Price\"].sum()\n",
    "sum"
   ]
  },
  {
   "cell_type": "code",
   "execution_count": null,
   "metadata": {},
   "outputs": [],
   "source": [
    "grouped_heroes_df = HeroesofPymoli_df.groupby(['Gender'])\n",
    "grouped_heroes_df.count().head(10)"
   ]
  },
  {
   "cell_type": "code",
   "execution_count": null,
   "metadata": {},
   "outputs": [],
   "source": [
    "grouped_heroes_df = HeroesofPymoli_df.loc[:,['SN', \"Gender\", 'Age']]\n",
    "grouped_heroes_df = grouped_heroes_df.drop_duplicates()\n",
    "grouped_heroes_df"
   ]
  },
  {
   "cell_type": "code",
   "execution_count": null,
   "metadata": {},
   "outputs": [],
   "source": [
    "# how much each gender paid for items \n",
    "grouped_heroes_df = HeroesofPymoli_df.groupby(['Gender', 'Price'])\n",
    "grouped_heroes_df.count().head(10)\n"
   ]
  },
  {
   "cell_type": "code",
   "execution_count": null,
   "metadata": {},
   "outputs": [],
   "source": [
    "number_of_unique_items = len((HeroesofPymoli_df[\"Item ID\"]).unique())\n",
    "average_price = (HeroesofPymoli_df[\"Price\"]).mean()\n",
    "number_of_purchases = (HeroesofPymoli_df[\"Purchase ID\"]).count()\n",
    "total_revenue = (HeroesofPymoli_df[\"Price\"]).sum()"
   ]
  },
  {
   "cell_type": "code",
   "execution_count": null,
   "metadata": {},
   "outputs": [],
   "source": [
    "summary_df = pd.DataFrame({\"Number of Unique Items\": [number_of_unique_items],\n",
    "                           \"Average Price\": [average_price], \n",
    "                           \"Number of Purchases\": [number_of_purchases], \n",
    "                           \"Total Revenue\": [total_revenue]})"
   ]
  },
  {
   "cell_type": "code",
   "execution_count": null,
   "metadata": {},
   "outputs": [],
   "source": [
    "summary_df.style.format({'Average Price':\"${:,.2f}\",\n",
    "                         'Total Revenue': '${:,.2f}'})"
   ]
  },
  {
   "cell_type": "code",
   "execution_count": null,
   "metadata": {},
   "outputs": [],
   "source": [
    "# group the purchase data by gender\n",
    "\n",
    "gender_stats = HeroesofPymoli_df.groupby(\"Gender\")"
   ]
  },
  {
   "cell_type": "code",
   "execution_count": null,
   "metadata": {},
   "outputs": [],
   "source": [
    "# Count total of names by gender\n",
    "gender_count = gender_stats.nunique()[\"SN\"]\n",
    "print(gender_count)"
   ]
  },
  {
   "cell_type": "code",
   "execution_count": null,
   "metadata": {},
   "outputs": [],
   "source": [
    "# the percentage for total players\n",
    "player_percentage = gender_count / 576 * 100\n",
    "print(player_percentage)"
   ]
  },
  {
   "cell_type": "code",
   "execution_count": null,
   "metadata": {},
   "outputs": [],
   "source": [
    "gender_demographics = pd.DataFrame({\"Player Percentage\": player_percentage, \"Gender Count\": gender_count})"
   ]
  },
  {
   "cell_type": "code",
   "execution_count": null,
   "metadata": {},
   "outputs": [],
   "source": [
    "gender_demographics.index.name = None"
   ]
  },
  {
   "cell_type": "code",
   "execution_count": null,
   "metadata": {},
   "outputs": [],
   "source": [
    "gender_demographics.sort_values([\"Gender Count\"], ascending=False).style.format({\"Player Percentage\":\"{:.2f}\"})"
   ]
  },
  {
   "cell_type": "code",
   "execution_count": null,
   "metadata": {},
   "outputs": [],
   "source": [
    "# Total purchases by gender\n",
    "purchase_count = gender_stats[\"Purchase ID\"].count()"
   ]
  },
  {
   "cell_type": "code",
   "execution_count": null,
   "metadata": {},
   "outputs": [],
   "source": [
    "# Average purchase price by gender\n",
    "avg_purchase_price = gender_stats[\"Price\"].mean()"
   ]
  },
  {
   "cell_type": "code",
   "execution_count": null,
   "metadata": {},
   "outputs": [],
   "source": [
    "# Average purchase total by gender\n",
    "avg_purchase_total = gender_stats[\"Price\"].sum()"
   ]
  },
  {
   "cell_type": "code",
   "execution_count": null,
   "metadata": {},
   "outputs": [],
   "source": [
    "avg_purchase_per_person = avg_purchase_total/gender_count"
   ]
  },
  {
   "cell_type": "code",
   "execution_count": null,
   "metadata": {},
   "outputs": [],
   "source": [
    "gender_demographics = pd.DataFrame({\"Purchase Count\": purchase_count, \n",
    "                                    \"Average Purchase Price\": avg_purchase_price,\n",
    "                                    \"Average Purchase Value\":avg_purchase_total,\n",
    "                                    \"Avg Purchase Total per Person\": avg_purchase_per_person})"
   ]
  },
  {
   "cell_type": "code",
   "execution_count": null,
   "metadata": {},
   "outputs": [],
   "source": [
    "gender_demographics.index.name = \"Gender\""
   ]
  },
  {
   "cell_type": "code",
   "execution_count": null,
   "metadata": {},
   "outputs": [],
   "source": [
    "gender_demographics.style.format({\"Average Purchase Value\":\"${:,.2f}\",\n",
    "                                  \"Average Purchase Price\":\"${:,.2f}\",\n",
    "                                  \"Avg Purchase Total per Person\":\"${:,.2f}\"})"
   ]
  },
  {
   "cell_type": "code",
   "execution_count": null,
   "metadata": {},
   "outputs": [],
   "source": [
    "age_bins = [0, 9.90, 14.90, 19.90, 24.90, 29.90, 34.90, 39.90, 99999]\n",
    "group_names = [\"<10\", \"10-14\", \"15-19\", \"20-24\", \"25-29\", \"30-34\", \"35-39\", \"40+\"]"
   ]
  },
  {
   "cell_type": "code",
   "execution_count": null,
   "metadata": {},
   "outputs": [],
   "source": [
    "HeroesofPymoli_df[\"Age Group\"] = pd.cut(HeroesofPymoli_df[\"Age\"],age_bins, labels=group_names)\n",
    "HeroesofPymoli_df"
   ]
  },
  {
   "cell_type": "code",
   "execution_count": null,
   "metadata": {},
   "outputs": [],
   "source": [
    "aged_group = HeroesofPymoli_df.groupby(\"Age Group\")"
   ]
  },
  {
   "cell_type": "code",
   "execution_count": null,
   "metadata": {},
   "outputs": [],
   "source": [
    "age_count = aged_group[\"SN\"].nunique()"
   ]
  },
  {
   "cell_type": "code",
   "execution_count": null,
   "metadata": {},
   "outputs": [],
   "source": [
    "age_percentage = (age_count/576)*100"
   ]
  },
  {
   "cell_type": "code",
   "execution_count": null,
   "metadata": {},
   "outputs": [],
   "source": [
    "age_demographics = pd.DataFrame({\"Percentage of Players\": age_percentage, \"Total Count\": age_count})"
   ]
  },
  {
   "cell_type": "code",
   "execution_count": null,
   "metadata": {},
   "outputs": [],
   "source": [
    "age_demographics.index.name = None"
   ]
  },
  {
   "cell_type": "code",
   "execution_count": null,
   "metadata": {},
   "outputs": [],
   "source": [
    "age_demographics.style.format({\"Percentage of Players\":\"{:,.2f}\"})"
   ]
  },
  {
   "cell_type": "code",
   "execution_count": null,
   "metadata": {},
   "outputs": [],
   "source": [
    "# Purchasing Analysis\n",
    "purchase_count_age = aged_group[\"Purchase ID\"].count()"
   ]
  },
  {
   "cell_type": "code",
   "execution_count": null,
   "metadata": {},
   "outputs": [],
   "source": [
    "avg_purchase_price_age = aged_group[\"Price\"].mean()"
   ]
  },
  {
   "cell_type": "code",
   "execution_count": null,
   "metadata": {},
   "outputs": [],
   "source": [
    "total_purchases = aged_group[\"Price\"].sum()"
   ]
  },
  {
   "cell_type": "code",
   "execution_count": null,
   "metadata": {},
   "outputs": [],
   "source": [
    "avg_purchase_per_person_age= total_purchases/age_count"
   ]
  },
  {
   "cell_type": "code",
   "execution_count": null,
   "metadata": {},
   "outputs": [],
   "source": [
    "age_demographics = pd.DataFrame({\"Purchase Count\": purchase_count_age,\n",
    "                                 \"Average Purchase Price\": avg_purchase_price_age,\n",
    "                                 \"Total Purchase Value\":total_purchases,\n",
    "                                 \"Average Purchase Total per Person\": avg_purchase_per_person_age})"
   ]
  },
  {
   "cell_type": "code",
   "execution_count": null,
   "metadata": {},
   "outputs": [],
   "source": [
    "age_demographics.index.name = None"
   ]
  },
  {
   "cell_type": "code",
   "execution_count": null,
   "metadata": {},
   "outputs": [],
   "source": [
    "age_demographics.style.format({\"Average Purchase Price\":\"${:,.2f}\",\n",
    "                               \"Total Purchase Value\":\"${:,.2f}\",\n",
    "                               \"Average Purchase Total per Person\":\"${:,.2f}\"})"
   ]
  },
  {
   "cell_type": "code",
   "execution_count": null,
   "metadata": {},
   "outputs": [],
   "source": [
    "# Top Spenders\n",
    "spender_stats = HeroesofPymoli_df.groupby(\"SN\")"
   ]
  },
  {
   "cell_type": "code",
   "execution_count": null,
   "metadata": {},
   "outputs": [],
   "source": [
    "count_purchase_spender = spender_stats[\"Purchase ID\"].count()"
   ]
  },
  {
   "cell_type": "code",
   "execution_count": null,
   "metadata": {},
   "outputs": [],
   "source": [
    "avg_price_spender = spender_stats[\"Price\"].mean()"
   ]
  },
  {
   "cell_type": "code",
   "execution_count": null,
   "metadata": {},
   "outputs": [],
   "source": [
    "spender_total = spender_stats[\"Price\"].sum()"
   ]
  },
  {
   "cell_type": "code",
   "execution_count": null,
   "metadata": {},
   "outputs": [],
   "source": [
    "top_spenders = pd.DataFrame({\"Purchase Count\": count_purchase_spender,\n",
    "                             \"Average Purchase Price\": avg_price_spender,\n",
    "                             \"Total Purchase Value\":spender_total})"
   ]
  },
  {
   "cell_type": "code",
   "execution_count": 148,
   "metadata": {},
   "outputs": [],
   "source": [
    "format_spenders = top_spenders.sort_values([\"Total Purchase Value\"], ascending=False).head()"
   ]
  },
  {
   "cell_type": "code",
   "execution_count": 150,
   "metadata": {},
   "outputs": [
    {
     "output_type": "execute_result",
     "data": {
      "text/plain": [
       "<pandas.io.formats.style.Styler at 0x2845dd28dc8>"
      ],
      "text/html": "<style  type=\"text/css\" >\n</style><table id=\"T_01aa70ca_ac76_11eb_9d6f_c8348e7b9836\" ><thead>    <tr>        <th class=\"blank level0\" ></th>        <th class=\"col_heading level0 col0\" >Purchase Count</th>        <th class=\"col_heading level0 col1\" >Average Purchase Price</th>        <th class=\"col_heading level0 col2\" >Total Purchase Value</th>    </tr>    <tr>        <th class=\"index_name level0\" >SN</th>        <th class=\"blank\" ></th>        <th class=\"blank\" ></th>        <th class=\"blank\" ></th>    </tr></thead><tbody>\n                <tr>\n                        <th id=\"T_01aa70ca_ac76_11eb_9d6f_c8348e7b9836level0_row0\" class=\"row_heading level0 row0\" >Lisosia93</th>\n                        <td id=\"T_01aa70ca_ac76_11eb_9d6f_c8348e7b9836row0_col0\" class=\"data row0 col0\" >5</td>\n                        <td id=\"T_01aa70ca_ac76_11eb_9d6f_c8348e7b9836row0_col1\" class=\"data row0 col1\" >$3.79</td>\n                        <td id=\"T_01aa70ca_ac76_11eb_9d6f_c8348e7b9836row0_col2\" class=\"data row0 col2\" >$18.96</td>\n            </tr>\n            <tr>\n                        <th id=\"T_01aa70ca_ac76_11eb_9d6f_c8348e7b9836level0_row1\" class=\"row_heading level0 row1\" >Idastidru52</th>\n                        <td id=\"T_01aa70ca_ac76_11eb_9d6f_c8348e7b9836row1_col0\" class=\"data row1 col0\" >4</td>\n                        <td id=\"T_01aa70ca_ac76_11eb_9d6f_c8348e7b9836row1_col1\" class=\"data row1 col1\" >$3.86</td>\n                        <td id=\"T_01aa70ca_ac76_11eb_9d6f_c8348e7b9836row1_col2\" class=\"data row1 col2\" >$15.45</td>\n            </tr>\n            <tr>\n                        <th id=\"T_01aa70ca_ac76_11eb_9d6f_c8348e7b9836level0_row2\" class=\"row_heading level0 row2\" >Chamjask73</th>\n                        <td id=\"T_01aa70ca_ac76_11eb_9d6f_c8348e7b9836row2_col0\" class=\"data row2 col0\" >3</td>\n                        <td id=\"T_01aa70ca_ac76_11eb_9d6f_c8348e7b9836row2_col1\" class=\"data row2 col1\" >$4.61</td>\n                        <td id=\"T_01aa70ca_ac76_11eb_9d6f_c8348e7b9836row2_col2\" class=\"data row2 col2\" >$13.83</td>\n            </tr>\n            <tr>\n                        <th id=\"T_01aa70ca_ac76_11eb_9d6f_c8348e7b9836level0_row3\" class=\"row_heading level0 row3\" >Iral74</th>\n                        <td id=\"T_01aa70ca_ac76_11eb_9d6f_c8348e7b9836row3_col0\" class=\"data row3 col0\" >4</td>\n                        <td id=\"T_01aa70ca_ac76_11eb_9d6f_c8348e7b9836row3_col1\" class=\"data row3 col1\" >$3.40</td>\n                        <td id=\"T_01aa70ca_ac76_11eb_9d6f_c8348e7b9836row3_col2\" class=\"data row3 col2\" >$13.62</td>\n            </tr>\n            <tr>\n                        <th id=\"T_01aa70ca_ac76_11eb_9d6f_c8348e7b9836level0_row4\" class=\"row_heading level0 row4\" >Iskadarya95</th>\n                        <td id=\"T_01aa70ca_ac76_11eb_9d6f_c8348e7b9836row4_col0\" class=\"data row4 col0\" >3</td>\n                        <td id=\"T_01aa70ca_ac76_11eb_9d6f_c8348e7b9836row4_col1\" class=\"data row4 col1\" >$4.37</td>\n                        <td id=\"T_01aa70ca_ac76_11eb_9d6f_c8348e7b9836row4_col2\" class=\"data row4 col2\" >$13.10</td>\n            </tr>\n    </tbody></table>"
     },
     "metadata": {},
     "execution_count": 150
    }
   ],
   "source": [
    "format_spenders.style.format({\"Average Purchase Total\":\"${:,.2f}\",\n",
    "                                 \"Average Purchase Price\":\"${:,.2f}\", \n",
    "                                 \"Total Purchase Value\":\"${:,.2f}\"})"
   ]
  },
  {
   "cell_type": "code",
   "execution_count": null,
   "metadata": {},
   "outputs": [],
   "source": []
  }
 ]
}